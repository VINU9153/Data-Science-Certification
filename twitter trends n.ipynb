{
 "cells": [
  {
   "cell_type": "code",
   "execution_count": 1,
   "id": "30120cc0",
   "metadata": {},
   "outputs": [
    {
     "name": "stdout",
     "output_type": "stream",
     "text": [
      "Requirement already satisfied: tweepy in c:\\users\\adc\\anaconda3\\new folder\\lib\\site-packages (4.13.0)\n",
      "Requirement already satisfied: requests-oauthlib<2,>=1.2.0 in c:\\users\\adc\\anaconda3\\new folder\\lib\\site-packages (from tweepy) (1.3.1)\n",
      "Requirement already satisfied: oauthlib<4,>=3.2.0 in c:\\users\\adc\\anaconda3\\new folder\\lib\\site-packages (from tweepy) (3.2.2)\n",
      "Requirement already satisfied: requests<3,>=2.27.0 in c:\\users\\adc\\anaconda3\\new folder\\lib\\site-packages (from tweepy) (2.28.2)\n",
      "Requirement already satisfied: charset-normalizer<4,>=2 in c:\\users\\adc\\anaconda3\\new folder\\lib\\site-packages (from requests<3,>=2.27.0->tweepy) (2.0.4)\n",
      "Requirement already satisfied: idna<4,>=2.5 in c:\\users\\adc\\anaconda3\\new folder\\lib\\site-packages (from requests<3,>=2.27.0->tweepy) (3.3)\n",
      "Requirement already satisfied: urllib3<1.27,>=1.21.1 in c:\\users\\adc\\anaconda3\\new folder\\lib\\site-packages (from requests<3,>=2.27.0->tweepy) (1.26.9)\n",
      "Requirement already satisfied: certifi>=2017.4.17 in c:\\users\\adc\\anaconda3\\new folder\\lib\\site-packages (from requests<3,>=2.27.0->tweepy) (2021.10.8)\n",
      "Requirement already satisfied: plotly in c:\\users\\adc\\anaconda3\\new folder\\lib\\site-packages (5.14.1)\n",
      "Requirement already satisfied: packaging in c:\\users\\adc\\anaconda3\\new folder\\lib\\site-packages (from plotly) (21.3)\n",
      "Requirement already satisfied: tenacity>=6.2.0 in c:\\users\\adc\\anaconda3\\new folder\\lib\\site-packages (from plotly) (8.0.1)\n",
      "Requirement already satisfied: pyparsing!=3.0.5,>=2.0.2 in c:\\users\\adc\\anaconda3\\new folder\\lib\\site-packages (from packaging->plotly) (3.0.4)\n",
      "Requirement already satisfied: requests in c:\\users\\adc\\anaconda3\\new folder\\lib\\site-packages (2.28.2)\n",
      "Requirement already satisfied: certifi>=2017.4.17 in c:\\users\\adc\\anaconda3\\new folder\\lib\\site-packages (from requests) (2021.10.8)\n",
      "Requirement already satisfied: urllib3<1.27,>=1.21.1 in c:\\users\\adc\\anaconda3\\new folder\\lib\\site-packages (from requests) (1.26.9)\n",
      "Requirement already satisfied: idna<4,>=2.5 in c:\\users\\adc\\anaconda3\\new folder\\lib\\site-packages (from requests) (3.3)\n",
      "Requirement already satisfied: charset-normalizer<4,>=2 in c:\\users\\adc\\anaconda3\\new folder\\lib\\site-packages (from requests) (2.0.4)\n",
      "Requirement already satisfied: iso639 in c:\\users\\adc\\anaconda3\\new folder\\lib\\site-packages (0.1.4)\n",
      "Requirement already satisfied: langdetect in c:\\users\\adc\\anaconda3\\new folder\\lib\\site-packages (1.0.9)\n",
      "Requirement already satisfied: six in c:\\users\\adc\\anaconda3\\new folder\\lib\\site-packages (from langdetect) (1.16.0)\n"
     ]
    }
   ],
   "source": [
    "# Installing and importing required libraries\n",
    "!pip install -U tweepy\n",
    "!pip install -U plotly\n",
    "!pip install -U requests\n",
    "!pip install -U iso639\n",
    "!pip install -U langdetect\n",
    "import iso639\n",
    "import requests\n",
    "import tweepy\n",
    "from langdetect import detect\n",
    "import ipywidgets as widgets\n",
    "import matplotlib.pyplot as plt\n",
    "import pandas as pd\n",
    "import plotly.express as px\n",
    "\n",
    "%matplotlib inline"
   ]
  },
  {
   "cell_type": "code",
   "execution_count": 2,
   "id": "fef3e599",
   "metadata": {},
   "outputs": [],
   "source": [
    "#credentials from twitter developer account\n",
    "API_key='qlYBGnINW1bJqaKn7tNQgxyF0'\n",
    "API_key_secret='RIW7NfvPW31BrLdzr4m1k2WVAyQl1fuiEzv3eBVqbIvGUdpIZv'\n",
    "Access_token='1574104217790296064-Fa7pn5GFRqBWqp2OPizmylw3oQJbWX'\n",
    "Access_token_secret='WhSomQxicE9jqQLPqEH10OvOr7T2yCRMMGV7A5ppH39aq'"
   ]
  },
  {
   "cell_type": "code",
   "execution_count": 3,
   "id": "c78fe915",
   "metadata": {},
   "outputs": [],
   "source": [
    "# Authentication handler with tweepy\n",
    "authenticate = tweepy.OAuthHandler(API_key,API_key_secret)"
   ]
  },
  {
   "cell_type": "code",
   "execution_count": 4,
   "id": "fb4d40be",
   "metadata": {},
   "outputs": [],
   "source": [
    "# Setting access tokens to the handler\n",
    "authenticate.set_access_token(Access_token,Access_token_secret)"
   ]
  },
  {
   "cell_type": "code",
   "execution_count": 5,
   "id": "24033c5a",
   "metadata": {},
   "outputs": [],
   "source": [
    "#defining api \n",
    "API = tweepy.API(authenticate,wait_on_rate_limit=True)"
   ]
  },
  {
   "cell_type": "code",
   "execution_count": 6,
   "id": "80f3da48",
   "metadata": {},
   "outputs": [],
   "source": [
    "#For trends in india we have to get where an earth id(woeid)\n",
    "woeid=23424848"
   ]
  },
  {
   "cell_type": "code",
   "execution_count": null,
   "id": "7d78d52b",
   "metadata": {},
   "outputs": [],
   "source": []
  },
  {
   "cell_type": "code",
   "execution_count": null,
   "id": "f778c09b",
   "metadata": {},
   "outputs": [],
   "source": [
    "#Get twitter trends by WOEID"
   ]
  },
  {
   "cell_type": "code",
   "execution_count": 7,
   "id": "43277964",
   "metadata": {},
   "outputs": [
    {
     "data": {
      "text/html": [
       "<div>\n",
       "<style scoped>\n",
       "    .dataframe tbody tr th:only-of-type {\n",
       "        vertical-align: middle;\n",
       "    }\n",
       "\n",
       "    .dataframe tbody tr th {\n",
       "        vertical-align: top;\n",
       "    }\n",
       "\n",
       "    .dataframe thead th {\n",
       "        text-align: right;\n",
       "    }\n",
       "</style>\n",
       "<table border=\"1\" class=\"dataframe\">\n",
       "  <thead>\n",
       "    <tr style=\"text-align: right;\">\n",
       "      <th></th>\n",
       "      <th>Trends</th>\n",
       "      <th>Volume</th>\n",
       "      <th>Language</th>\n",
       "    </tr>\n",
       "  </thead>\n",
       "  <tbody>\n",
       "    <tr>\n",
       "      <th>2</th>\n",
       "      <td>Vijay Shankar</td>\n",
       "      <td>10891.0</td>\n",
       "      <td>Somali</td>\n",
       "    </tr>\n",
       "    <tr>\n",
       "      <th>49</th>\n",
       "      <td>#Mammootty</td>\n",
       "      <td>11457.0</td>\n",
       "      <td>Finnish</td>\n",
       "    </tr>\n",
       "    <tr>\n",
       "      <th>44</th>\n",
       "      <td>CRPF</td>\n",
       "      <td>15259.0</td>\n",
       "      <td>English</td>\n",
       "    </tr>\n",
       "    <tr>\n",
       "      <th>26</th>\n",
       "      <td>Ferguson</td>\n",
       "      <td>17729.0</td>\n",
       "      <td>German</td>\n",
       "    </tr>\n",
       "    <tr>\n",
       "      <th>16</th>\n",
       "      <td>सचिन पायलट</td>\n",
       "      <td>22223.0</td>\n",
       "      <td>Nepali</td>\n",
       "    </tr>\n",
       "    <tr>\n",
       "      <th>42</th>\n",
       "      <td>Anfield</td>\n",
       "      <td>28686.0</td>\n",
       "      <td>German</td>\n",
       "    </tr>\n",
       "    <tr>\n",
       "      <th>12</th>\n",
       "      <td>Miller</td>\n",
       "      <td>30424.0</td>\n",
       "      <td>Turkish</td>\n",
       "    </tr>\n",
       "    <tr>\n",
       "      <th>8</th>\n",
       "      <td>Russell</td>\n",
       "      <td>35237.0</td>\n",
       "      <td>Finnish</td>\n",
       "    </tr>\n",
       "    <tr>\n",
       "      <th>30</th>\n",
       "      <td>Sushant Singh Rajput Matters</td>\n",
       "      <td>40805.0</td>\n",
       "      <td>English</td>\n",
       "    </tr>\n",
       "    <tr>\n",
       "      <th>47</th>\n",
       "      <td>#Simhadri4K</td>\n",
       "      <td>47808.0</td>\n",
       "      <td>Indonesian</td>\n",
       "    </tr>\n",
       "  </tbody>\n",
       "</table>\n",
       "</div>"
      ],
      "text/plain": [
       "                          Trends   Volume    Language\n",
       "2                  Vijay Shankar  10891.0      Somali\n",
       "49                    #Mammootty  11457.0     Finnish\n",
       "44                          CRPF  15259.0     English\n",
       "26                      Ferguson  17729.0      German\n",
       "16                    सचिन पायलट  22223.0      Nepali\n",
       "42                       Anfield  28686.0      German\n",
       "12                        Miller  30424.0     Turkish\n",
       "8                        Russell  35237.0     Finnish\n",
       "30  Sushant Singh Rajput Matters  40805.0     English\n",
       "47                   #Simhadri4K  47808.0  Indonesian"
      ]
     },
     "execution_count": 7,
     "metadata": {},
     "output_type": "execute_result"
    }
   ],
   "source": [
    "def get_trends_by_location(loc_id,count):\n",
    "    '''Get Trending Tweets by Location'''\n",
    "    \n",
    "    try:\n",
    "        trends = API.get_place_trends(loc_id)\n",
    "        df = pd.DataFrame([trending['name'],  trending['tweet_volume'], iso639.to_name(detect(trending['name']))] for trending in trends[0]['trends'])\n",
    "        df.columns = ['Trends','Volume','Language']\n",
    "        df = df.sort_values('Volume', ascending = True) \n",
    "        return(df[:count])\n",
    "    except Exception as e:\n",
    "        print(\"An exception occurred\",e)\n",
    "        \n",
    "        \n",
    "df_india_trends = get_trends_by_location(23424848, 10)\n",
    "df_india_trends"
   ]
  },
  {
   "cell_type": "code",
   "execution_count": 8,
   "id": "4ee6dd70",
   "metadata": {},
   "outputs": [],
   "source": [
    "# Setting style for slider widget\n",
    "style={'description_width':'initial'}"
   ]
  },
  {
   "cell_type": "code",
   "execution_count": 9,
   "id": "79d19db6",
   "metadata": {},
   "outputs": [],
   "source": [
    "# setting limits, default value and other values for slider\n",
    "limit_case = widgets.IntSlider(value=10,min=5,max=50,step=1,description='Top:',disabled=False,style=style)"
   ]
  },
  {
   "cell_type": "code",
   "execution_count": 10,
   "id": "c8dd264c",
   "metadata": {},
   "outputs": [],
   "source": [
    "# defining a function to plot data\n",
    "def top_n_trends(n):\n",
    "    ''' Function Prints top n trending topics in India in last 24 hours, and plots out barchart for number of posts for those topics(if available on API) \n",
    "    n: number of topics'''\n",
    "    # creating a Dataframe for topics and volume\n",
    "    df = pd.DataFrame([(j['name'],j['tweet_volume']) for j in API.get_place_trends(id=woeid)[0]['trends'][:n]],columns=(['Topic','volume']))\n",
    "    # Plotting Top N topics\n",
    "    px.bar(df,x='Topic',y='volume',hover_data=['Topic','volume'],color='Topic').show()"
   ]
  },
  {
   "cell_type": "code",
   "execution_count": 12,
   "id": "3b294c1b",
   "metadata": {},
   "outputs": [
    {
     "data": {
      "application/vnd.jupyter.widget-view+json": {
       "model_id": "443d592b9ece441b9bf917f2d7194afa",
       "version_major": 2,
       "version_minor": 0
      },
      "text/plain": [
       "interactive(children=(IntSlider(value=5, description='Top:', max=50, min=5, style=SliderStyle(description_widt…"
      ]
     },
     "metadata": {},
     "output_type": "display_data"
    }
   ],
   "source": [
    "#visual size\n",
    "widgets.interactive(top_n_trends,n=limit_case)"
   ]
  },
  {
   "cell_type": "code",
   "execution_count": null,
   "id": "e1d04fae",
   "metadata": {},
   "outputs": [],
   "source": []
  }
 ],
 "metadata": {
  "kernelspec": {
   "display_name": "Python 3 (ipykernel)",
   "language": "python",
   "name": "python3"
  },
  "language_info": {
   "codemirror_mode": {
    "name": "ipython",
    "version": 3
   },
   "file_extension": ".py",
   "mimetype": "text/x-python",
   "name": "python",
   "nbconvert_exporter": "python",
   "pygments_lexer": "ipython3",
   "version": "3.9.12"
  }
 },
 "nbformat": 4,
 "nbformat_minor": 5
}
